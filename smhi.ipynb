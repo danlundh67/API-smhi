{
 "cells": [
  {
   "cell_type": "code",
   "execution_count": 18,
   "metadata": {},
   "outputs": [
    {
     "name": "stdout",
     "output_type": "stream",
     "text": [
      "{'key': '73470', 'updated': 1640995199000, 'title': 'Markens tillstånd - Ulricehamn', 'summary': 'Latitud: 57.8052 Longitud: 13.4083 Höjd: 175.0', 'link': [{'href': 'https://opendata-download-metobs.smhi.se/api/version/1.0/parameter/40/station/73470.json', 'rel': 'station', 'type': 'application/json'}, {'href': 'https://opendata-download-metobs.smhi.se/api/version/1.0/parameter/40/station/73470.xml', 'rel': 'station', 'type': 'application/xml'}, {'href': 'https://opendata-download-metobs.smhi.se/api/version/1.0/parameter/40/station/73470.atom', 'rel': 'station', 'type': 'application/atom+xml'}], 'name': 'Ulricehamn', 'owner': 'SMHI', 'ownerCategory': 'CLIMATE', 'measuringStations': 'CORE', 'id': 73470, 'height': 175.0, 'latitude': 57.8052, 'longitude': 13.4083, 'active': False, 'from': -2461449600000, 'to': 1640995199000}\n",
      "[{'parameter_id': 1, 'timestamp': 1717448400000, 'value': 8.8, 'station': '188790'}, {'parameter_id': 1, 'timestamp': 1717448400000, 'value': 18.7, 'station': '97280'}, {'parameter_id': 1, 'timestamp': 1717448400000, 'value': 6.0, 'station': '167710'}, {'parameter_id': 1, 'timestamp': 1717448400000, 'value': 8.1, 'station': '159880'}, {'parameter_id': 1, 'timestamp': 1717448400000, 'value': 14.5, 'station': '92410'}, {'parameter_id': 1, 'timestamp': 1717448400000, 'value': 15.6, 'station': '84340'}, {'parameter_id': 1, 'timestamp': 1717448400000, 'value': 19.2, 'station': '98040'}, {'parameter_id': 1, 'timestamp': 1717448400000, 'value': 12.4, 'station': '151280'}, {'parameter_id': 1, 'timestamp': 1717448400000, 'value': 14.7, 'station': '92130'}, {'parameter_id': 1, 'timestamp': 1717448400000, 'value': 2.7, 'station': '132110'}, {'parameter_id': 1, 'timestamp': 1717448400000, 'value': 14.0, 'station': '161940'}, {'parameter_id': 1, 'timestamp': 1717448400000, 'value': 17.9, 'station': '105260'}, {'parameter_id': 1, 'timestamp': 1717448400000, 'value': 16.9, 'station': '75002'}, {'parameter_id': 1, 'timestamp': 1717448400000, 'value': 16.6, 'station': '5032'}, {'parameter_id': 1, 'timestamp': 1717448400000, 'value': 15.5, 'station': '127130'}, {'parameter_id': 1, 'timestamp': 1717448400000, 'value': 6.8, 'station': '157870'}, {'parameter_id': 1, 'timestamp': 1717448400000, 'value': 6.9, 'station': '123460'}, {'parameter_id': 1, 'timestamp': 1717448400000, 'value': 15.0, 'station': '94390'}, {'parameter_id': 1, 'timestamp': 1717448400000, 'value': 14.6, 'station': '116490'}, {'parameter_id': 1, 'timestamp': 1717448400000, 'value': 8.9, 'station': '123060'}, {'parameter_id': 1, 'timestamp': 1717448400000, 'value': 16.6, 'station': '115220'}, {'parameter_id': 1, 'timestamp': 1717448400000, 'value': 17.8, 'station': '107440'}, {'parameter_id': 1, 'timestamp': 1717448400000, 'value': 18.3, 'station': '97370'}, {'parameter_id': 1, 'timestamp': 1717448400000, 'value': 17.6, 'station': '96190'}, {'parameter_id': 1, 'timestamp': 1717448400000, 'value': 15.7, 'station': '52240'}, {'parameter_id': 1, 'timestamp': 1717448400000, 'value': 15.0, 'station': '107140'}, {'parameter_id': 1, 'timestamp': 1717448400000, 'value': 17.1, 'station': '96040'}, {'parameter_id': 1, 'timestamp': 1717448400000, 'value': 9.7, 'station': '23059'}, {'parameter_id': 1, 'timestamp': 1717448400000, 'value': 9.5, 'station': '148040'}, {'parameter_id': 1, 'timestamp': 1717448400000, 'value': 18.3, 'station': '78550'}, {'parameter_id': 1, 'timestamp': 1717448400000, 'value': 6.2, 'station': '134410'}, {'parameter_id': 1, 'timestamp': 1717448400000, 'value': 4.4, 'station': '155790'}, {'parameter_id': 1, 'timestamp': 1717448400000, 'value': 18.0, 'station': '76420'}, {'parameter_id': 1, 'timestamp': 1717448400000, 'value': 16.4, 'station': '89230'}, {'parameter_id': 1, 'timestamp': 1717448400000, 'value': 18.1, 'station': '20044'}, {'parameter_id': 1, 'timestamp': 1717448400000, 'value': 6.1, 'station': '145130'}, {'parameter_id': 1, 'timestamp': 1717448400000, 'value': 7.7, 'station': '147560'}, {'parameter_id': 1, 'timestamp': 1717448400000, 'value': 16.3, 'station': '103100'}, {'parameter_id': 1, 'timestamp': 1717448400000, 'value': 4.8, 'station': '144310'}, {'parameter_id': 1, 'timestamp': 1717448400000, 'value': 14.4, 'station': '180760'}, {'parameter_id': 1, 'timestamp': 1717448400000, 'value': 17.4, 'station': '75001'}, {'parameter_id': 1, 'timestamp': 1717448400000, 'value': 17.2, 'station': '107420'}, {'parameter_id': 1, 'timestamp': 1717448400000, 'value': 14.3, 'station': '84520'}, {'parameter_id': 1, 'timestamp': 1717448400000, 'value': 14.4, 'station': '71420'}, {'parameter_id': 1, 'timestamp': 1717448400000, 'value': 13.5, 'station': '14'}, {'parameter_id': 1, 'timestamp': 1717448400000, 'value': 11.5, 'station': '72420'}, {'parameter_id': 1, 'timestamp': 1717448400000, 'value': 14.3, 'station': '15'}, {'parameter_id': 1, 'timestamp': 1717448400000, 'value': 13.7, 'station': '16'}, {'parameter_id': 1, 'timestamp': 1717448400000, 'value': 12.5, 'station': '74180'}, {'parameter_id': 1, 'timestamp': 1717448400000, 'value': 6.6, 'station': '135460'}, {'parameter_id': 1, 'timestamp': 1717448400000, 'value': 16.9, 'station': '75004'}, {'parameter_id': 1, 'timestamp': 1717448400000, 'value': 14.1, 'station': '62410'}, {'parameter_id': 1, 'timestamp': 1717448400000, 'value': 9.7, 'station': '114410'}, {'parameter_id': 1, 'timestamp': 1717448400000, 'value': 15.5, 'station': '64020'}, {'parameter_id': 1, 'timestamp': 1717448400000, 'value': 14.2, 'station': '163960'}, {'parameter_id': 1, 'timestamp': 1717448400000, 'value': 19.2, 'station': '87140'}, {'parameter_id': 1, 'timestamp': 1717448400000, 'value': 14.6, 'station': '62040'}, {'parameter_id': 1, 'timestamp': 1717448400000, 'value': 15.6, 'station': '71001'}, {'parameter_id': 1, 'timestamp': 1717448400000, 'value': 4.8, 'station': '155970'}, {'parameter_id': 1, 'timestamp': 1717448400000, 'value': 4.0, 'station': '155960'}, {'parameter_id': 1, 'timestamp': 1717448400000, 'value': 11.9, 'station': '138390'}, {'parameter_id': 1, 'timestamp': 1717448400000, 'value': 16.2, 'station': '68560'}, {'parameter_id': 1, 'timestamp': 1717448400000, 'value': 14.0, 'station': '140460'}, {'parameter_id': 1, 'timestamp': 1717448400000, 'value': 15.5, 'station': '75520'}, {'parameter_id': 1, 'timestamp': 1717448400000, 'value': 16.5, 'station': '8006'}, {'parameter_id': 1, 'timestamp': 1717448400000, 'value': 7.9, 'station': '146050'}, {'parameter_id': 1, 'timestamp': 1717448400000, 'value': 14.1, 'station': '11044'}, {'parameter_id': 1, 'timestamp': 1717448400000, 'value': 8.4, 'station': '125440'}, {'parameter_id': 1, 'timestamp': 1717448400000, 'value': 12.9, 'station': '83190'}, {'parameter_id': 1, 'timestamp': 1717448400000, 'value': 13.3, 'station': '63160'}, {'parameter_id': 1, 'timestamp': 1717448400000, 'value': 12.3, 'station': '6057'}, {'parameter_id': 1, 'timestamp': 1717448400000, 'value': 14.3, 'station': '53530'}, {'parameter_id': 1, 'timestamp': 1717448400000, 'value': 12.8, 'station': '170860'}, {'parameter_id': 1, 'timestamp': 1717448400000, 'value': 8.7, 'station': '136410'}, {'parameter_id': 1, 'timestamp': 1717448400000, 'value': 14.0, 'station': '139260'}, {'parameter_id': 1, 'timestamp': 1717448400000, 'value': 14.6, 'station': '73001'}, {'parameter_id': 1, 'timestamp': 1717448400000, 'value': 12.8, 'station': '74460'}, {'parameter_id': 1, 'timestamp': 1717448400000, 'value': 16.8, 'station': '66420'}, {'parameter_id': 1, 'timestamp': 1717448400000, 'value': 14.3, 'station': '192840'}, {'parameter_id': 1, 'timestamp': 1717448400000, 'value': 14.6, 'station': '84310'}, {'parameter_id': 1, 'timestamp': 1717448400000, 'value': 17.0, 'station': '65090'}, {'parameter_id': 1, 'timestamp': 1717448400000, 'value': 16.8, 'station': '93220'}, {'parameter_id': 1, 'timestamp': 1717448400000, 'value': 6.7, 'station': '188850'}, {'parameter_id': 1, 'timestamp': 1717448400000, 'value': 16.7, 'station': '106160'}, {'parameter_id': 1, 'timestamp': 1717448400000, 'value': 13.8, 'station': '85460'}, {'parameter_id': 1, 'timestamp': 1717448400000, 'value': 15.0, 'station': '94190'}, {'parameter_id': 1, 'timestamp': 1717448400000, 'value': 14.5, 'station': '12000'}, {'parameter_id': 1, 'timestamp': 1717448400000, 'value': 13.1, 'station': '180940'}, {'parameter_id': 1, 'timestamp': 1717448400000, 'value': 14.5, 'station': '95540'}, {'parameter_id': 1, 'timestamp': 1717448400000, 'value': 5.5, 'station': '124300'}, {'parameter_id': 1, 'timestamp': 1717448400000, 'value': 15.8, 'station': '86420'}, {'parameter_id': 1, 'timestamp': 1717448400000, 'value': 4.7, 'station': '133500'}, {'parameter_id': 1, 'timestamp': 1717448400000, 'value': 13.1, 'station': '65510'}, {'parameter_id': 1, 'timestamp': 1717448400000, 'value': 14.4, 'station': '82360'}, {'parameter_id': 1, 'timestamp': 1717448400000, 'value': 9.8, 'station': '136090'}, {'parameter_id': 1, 'timestamp': 1717448400000, 'value': 16.4, 'station': '117430'}, {'parameter_id': 1, 'timestamp': 1717448400000, 'value': 15.9, 'station': '85390'}, {'parameter_id': 1, 'timestamp': 1717448400000, 'value': 7.3, 'station': '167990'}, {'parameter_id': 1, 'timestamp': 1717448400000, 'value': 12.6, 'station': '11039'}, {'parameter_id': 1, 'timestamp': 1717448400000, 'value': 11.6, 'station': '21041'}, {'parameter_id': 1, 'timestamp': 1717448400000, 'value': 12.6, 'station': '171790'}, {'parameter_id': 1, 'timestamp': 1717448400000, 'value': 17.9, 'station': '87440'}, {'parameter_id': 1, 'timestamp': 1717448400000, 'value': 13.7, 'station': '180770'}, {'parameter_id': 1, 'timestamp': 1717448400000, 'value': 13.0, 'station': '16036'}, {'parameter_id': 1, 'timestamp': 1717448400000, 'value': 15.4, 'station': '85240'}, {'parameter_id': 1, 'timestamp': 1717448400000, 'value': 12.1, 'station': '63510'}, {'parameter_id': 1, 'timestamp': 1717448400000, 'value': 13.4, 'station': '162860'}, {'parameter_id': 1, 'timestamp': 1717448400000, 'value': 14.4, 'station': '128390'}, {'parameter_id': 1, 'timestamp': 1717448400000, 'value': 9.3, 'station': '148330'}, {'parameter_id': 1, 'timestamp': 1717448400000, 'value': 14.7, 'station': '85050'}, {'parameter_id': 1, 'timestamp': 1717448400000, 'value': 15.4, 'station': '52350'}, {'parameter_id': 1, 'timestamp': 1717448400000, 'value': 16.7, 'station': '71002'}, {'parameter_id': 1, 'timestamp': 1717448400000, 'value': 14.2, 'station': '53300'}, {'parameter_id': 1, 'timestamp': 1717448400000, 'value': 13.7, 'station': '103420'}, {'parameter_id': 1, 'timestamp': 1717448400000, 'value': 7.9, 'station': '158740'}, {'parameter_id': 1, 'timestamp': 1717448400000, 'value': 4.9, 'station': '166910'}, {'parameter_id': 1, 'timestamp': 1717448400000, 'value': 15.6, 'station': '104580'}, {'parameter_id': 1, 'timestamp': 1717448400000, 'value': 15.5, 'station': '75250'}, {'parameter_id': 1, 'timestamp': 1717448400000, 'value': 15.9, 'station': '81050'}, {'parameter_id': 1, 'timestamp': 1717448400000, 'value': 12.6, 'station': '191910'}, {'parameter_id': 1, 'timestamp': 1717448400000, 'value': 13.0, 'station': '170930'}, {'parameter_id': 1, 'timestamp': 1717448400000, 'value': 15.7, 'station': '83420'}, {'parameter_id': 1, 'timestamp': 1717448400000, 'value': 14.4, 'station': '71190'}, {'parameter_id': 1, 'timestamp': 1717448400000, 'value': 8.8, 'station': '179960'}, {'parameter_id': 1, 'timestamp': 1717448400000, 'value': 16.1, 'station': '81540'}, {'parameter_id': 1, 'timestamp': 1717448400000, 'value': 16.9, 'station': '86340'}, {'parameter_id': 1, 'timestamp': 1717448400000, 'value': 9.1, 'station': '149560'}, {'parameter_id': 1, 'timestamp': 1717448400000, 'value': 14.3, 'station': '172940'}, {'parameter_id': 1, 'timestamp': 1717448400000, 'value': 14.0, 'station': '183750'}, {'parameter_id': 1, 'timestamp': 1717448400000, 'value': 12.7, 'station': '182910'}, {'parameter_id': 1, 'timestamp': 1717448400000, 'value': 11.9, 'station': '11001'}, {'parameter_id': 1, 'timestamp': 1717448400000, 'value': 10.8, 'station': '149340'}, {'parameter_id': 1, 'timestamp': 1717448400000, 'value': 13.0, 'station': '161710'}, {'parameter_id': 1, 'timestamp': 1717448400000, 'value': 8.9, 'station': '189720'}, {'parameter_id': 1, 'timestamp': 1717448400000, 'value': 5.2, 'station': '177930'}, {'parameter_id': 1, 'timestamp': 1717448400000, 'value': 14.7, 'station': '65160'}, {'parameter_id': 1, 'timestamp': 1717448400000, 'value': 10.9, 'station': '73480'}, {'parameter_id': 1, 'timestamp': 1717448400000, 'value': 12.5, 'station': '162790'}, {'parameter_id': 1, 'timestamp': 1717448400000, 'value': 23.0, 'station': '11995'}, {'parameter_id': 1, 'timestamp': 1717448400000, 'value': 14.2, 'station': '182810'}, {'parameter_id': 1, 'timestamp': 1717448400000, 'value': 17.9, 'station': '96560'}, {'parameter_id': 1, 'timestamp': 1717448400000, 'value': 14.0, 'station': '139120'}, {'parameter_id': 1, 'timestamp': 1717448400000, 'value': 17.3, 'station': '98160'}, {'parameter_id': 1, 'timestamp': 1717448400000, 'value': 13.4, 'station': '151380'}, {'parameter_id': 1, 'timestamp': 1717448400000, 'value': 13.8, 'station': '54290'}, {'parameter_id': 1, 'timestamp': 1717448400000, 'value': 13.9, 'station': '14013'}, {'parameter_id': 1, 'timestamp': 1717448400000, 'value': 14.4, 'station': '11018'}, {'parameter_id': 1, 'timestamp': 1717448400000, 'value': 1.3, 'station': '154730'}, {'parameter_id': 1, 'timestamp': 1717448400000, 'value': 17.6, 'station': '97400'}, {'parameter_id': 1, 'timestamp': 1717448400000, 'value': 19.6, 'station': '97200'}, {'parameter_id': 1, 'timestamp': 1717448400000, 'value': 20.3, 'station': '98230'}, {'parameter_id': 1, 'timestamp': 1717448400000, 'value': 5.8, 'station': '178860'}, {'parameter_id': 1, 'timestamp': 1717448400000, 'value': 14.2, 'station': '105220'}, {'parameter_id': 1, 'timestamp': 1717448400000, 'value': 15.6, 'station': '8027'}, {'parameter_id': 1, 'timestamp': 1717448400000, 'value': 6.3, 'station': '132170'}, {'parameter_id': 1, 'timestamp': 1717448400000, 'value': 14.1, 'station': '163900'}, {'parameter_id': 1, 'timestamp': 1717448400000, 'value': 13.8, 'station': '127310'}, {'parameter_id': 1, 'timestamp': 1717448400000, 'value': 15.7, 'station': '93520'}, {'parameter_id': 1, 'timestamp': 1717448400000, 'value': 14.1, 'station': '98490'}, {'parameter_id': 1, 'timestamp': 1717448400000, 'value': 14.5, 'station': '25060'}, {'parameter_id': 1, 'timestamp': 1717448400000, 'value': 9.3, 'station': '124030'}, {'parameter_id': 1, 'timestamp': 1717448400000, 'value': 13.4, 'station': '99280'}, {'parameter_id': 1, 'timestamp': 1717448400000, 'value': 3.1, 'station': '132030'}, {'parameter_id': 1, 'timestamp': 1717448400000, 'value': 14.7, 'station': '113420'}, {'parameter_id': 1, 'timestamp': 1717448400000, 'value': 13.5, 'station': '25009'}, {'parameter_id': 1, 'timestamp': 1717448400000, 'value': 14.0, 'station': '72001'}, {'parameter_id': 1, 'timestamp': 1717448400000, 'value': 15.9, 'station': '82260'}, {'parameter_id': 1, 'timestamp': 1717448400000, 'value': 14.3, 'station': '99450'}, {'parameter_id': 1, 'timestamp': 1717448400000, 'value': 4.8, 'station': '178970'}, {'parameter_id': 1, 'timestamp': 1717448400000, 'value': 6.3, 'station': '169790'}, {'parameter_id': 1, 'timestamp': 1717448400000, 'value': 11.6, 'station': '74300'}, {'parameter_id': 1, 'timestamp': 1717448400000, 'value': 12.3, 'station': '126290'}, {'parameter_id': 1, 'timestamp': 1717448400000, 'value': 15.9, 'station': '16035'}, {'parameter_id': 1, 'timestamp': 1717448400000, 'value': 12.1, 'station': '63590'}, {'parameter_id': 1, 'timestamp': 1717448400000, 'value': 16.3, 'station': '71003'}, {'parameter_id': 1, 'timestamp': 1717448400000, 'value': 19.0, 'station': '97100'}, {'parameter_id': 1, 'timestamp': 1717448400000, 'value': 6.0, 'station': '122260'}, {'parameter_id': 1, 'timestamp': 1717448400000, 'value': 11.6, 'station': '72090'}, {'parameter_id': 1, 'timestamp': 1717448400000, 'value': 13.6, 'station': '140480'}, {'parameter_id': 1, 'timestamp': 1717448400000, 'value': 19.0, 'station': '97510'}, {'parameter_id': 1, 'timestamp': 1717448400000, 'value': 18.0, 'station': '97530'}, {'parameter_id': 1, 'timestamp': 1717448400000, 'value': 16.0, 'station': '55570'}, {'parameter_id': 1, 'timestamp': 1717448400000, 'value': 13.9, 'station': '15060'}, {'parameter_id': 1, 'timestamp': 1717448400000, 'value': 12.9, 'station': '160970'}, {'parameter_id': 1, 'timestamp': 1717448400000, 'value': 7.3, 'station': '146350'}, {'parameter_id': 1, 'timestamp': 1717448400000, 'value': 14.2, 'station': '71380'}, {'parameter_id': 1, 'timestamp': 1717448400000, 'value': 17.0, 'station': '78400'}, {'parameter_id': 1, 'timestamp': 1717448400000, 'value': 14.3, 'station': '84050'}, {'parameter_id': 1, 'timestamp': 1717448400000, 'value': 12.5, 'station': '11031'}, {'parameter_id': 1, 'timestamp': 1717448400000, 'value': 15.3, 'station': '25061'}, {'parameter_id': 1, 'timestamp': 1717448400000, 'value': 16.7, 'station': '81350'}, {'parameter_id': 1, 'timestamp': 1717448400000, 'value': 13.7, 'station': '138070'}, {'parameter_id': 1, 'timestamp': 1717448400000, 'value': 13.2, 'station': '64510'}, {'parameter_id': 1, 'timestamp': 1717448400000, 'value': 14.2, 'station': '173900'}, {'parameter_id': 1, 'timestamp': 1717448400000, 'value': 15.8, 'station': '114140'}, {'parameter_id': 1, 'timestamp': 1717448400000, 'value': 13.7, 'station': '161910'}, {'parameter_id': 1, 'timestamp': 1717448400000, 'value': 14.9, 'station': '62180'}, {'parameter_id': 1, 'timestamp': 1717448400000, 'value': 18.0, 'station': '106570'}, {'parameter_id': 1, 'timestamp': 1717448400000, 'value': 7.9, 'station': '147090'}, {'parameter_id': 1, 'timestamp': 1717448400000, 'value': 17.7, 'station': '77210'}, {'parameter_id': 1, 'timestamp': 1717448400000, 'value': 16.8, 'station': '66110'}, {'parameter_id': 1, 'timestamp': 1717448400000, 'value': 16.7, 'station': '95130'}, {'parameter_id': 1, 'timestamp': 1717448400000, 'value': 12.8, 'station': '138240'}, {'parameter_id': 1, 'timestamp': 1717448400000, 'value': 16.4, 'station': '108320'}, {'parameter_id': 1, 'timestamp': 1717448400000, 'value': 16.3, 'station': '78280'}, {'parameter_id': 1, 'timestamp': 1717448400000, 'value': 8.1, 'station': '134110'}, {'parameter_id': 1, 'timestamp': 1717448400000, 'value': 13.3, 'station': '172770'}]\n"
     ]
    }
   ],
   "source": [
    "from smhi_open_data import SMHIOpenDataClient, Parameter\n",
    "\n",
    "\n",
    "# Get 10 stations\n",
    "client = SMHIOpenDataClient()\n",
    "\n",
    "\n",
    "# Get all stations\n",
    "stations = client.get_stations()\n",
    "\n",
    "\n",
    "# Get closest station\n",
    "closest_station = client.get_closest_station(\n",
    "    latitude=57.844869,\n",
    "    longitude=13.307414)\n",
    "\n",
    "\n",
    "print(closest_station)\n",
    "\n",
    "\n",
    "# Get available parameters\n",
    "parameters = client.list_parameters()\n",
    "\n",
    "\n",
    "# Get available parameters at station\n",
    "parameters_station = client.get_station_parameters(station_id=73480)\n",
    "\n",
    "# for a in parameters_station:\n",
    "#     print(f\"{a} {a.value}\")\n",
    "\n",
    "\n",
    "observations = client.get_latest_observations(\n",
    "    parameter=Parameter.TemperaturePast1h)\n",
    "\n",
    "print(f\"{observations}\")\n",
    "\n",
    "# parameters_station = client.get_station_parameters(closest_station)\n",
    "\n",
    "\n",
    "# Get temperature observations from available stations from past hour\n",
    "#observations = client.get_latest_observations(\n",
    "#    parameter\n",
    "#    =Parameter.TemperaturePast1h)\n",
    "    \n",
    "# print(observations)\n",
    "\n",
    "\n",
    "# print(parameters_station)\n",
    "\n",
    "\n",
    "#str1=str(parameters_station['Parameter.PrecipPast15m'])\n",
    "#print(str1)\n",
    "\n",
    "\n",
    "# print(parameters_station.TemperaturePast1h.value)\n",
    "# for i in parameters_station:\n",
    "#     print(i, i.value)\n",
    "#     if ('TemperaturePast1h' == i.name):\n",
    "#         currtemp=i.value\n",
    "\n",
    "\n",
    "# print('TemperaturePast1h', currtemp)\n",
    "\n",
    "\n",
    "# if (currtemp<0):\n",
    "#     print('Slå på värmen')\n",
    "# elif (currtemp>0 & currtemp<10):\n",
    "#     print('låt vara')\n",
    "# else:\n",
    "#    print('Stäng av')"
   ]
  },
  {
   "cell_type": "code",
   "execution_count": 44,
   "metadata": {},
   "outputs": [
    {
     "name": "stdout",
     "output_type": "stream",
     "text": [
      "Current air temp - Rångedala 13.9\n"
     ]
    }
   ],
   "source": [
    "from smhi_open_data import SMHIOpenDataClient, Parameter\n",
    "\n",
    "\n",
    "# Get 10 stations\n",
    "client = SMHIOpenDataClient()\n",
    "\n",
    "# Get all stations\n",
    "stations = client.get_stations()\n",
    "\n",
    "# Get closest station\n",
    "# Get closest station\n",
    "# closest_station = client.get_closest_station(\n",
    "#     latitude=57.844869,\n",
    "#     longitude=13.307414)\n",
    "\n",
    "\n",
    "# print(f\"{closest_station}\")\n",
    "\n",
    "# station_id=closest_station['key']\n",
    "# Get available parameters\n",
    "parameters = client.list_parameters()\n",
    "\n",
    "\n",
    "# print(f\"{station_id}\")\n",
    "# Get available parameters at station\n",
    "#parameters_station = client.get_station_parameters(station_id=173010)\n",
    "\n",
    "# Get temperature observations from available stations from past hour\n",
    "observations = client.get_latest_observations(\n",
    "    parameter=Parameter.TemperaturePast1h)\n",
    "\n",
    "\n",
    "\n",
    "#print(f\"{observations}\")\n",
    "\n",
    "station_id=73480 # stationcode e.g. here Rångedala\n",
    "# available stations https://www.smhi.se/data/meteorologi/ladda-ner-meteorologiska-observationer/#param=airtemperatureInstant,stations=core\n",
    "\n",
    "for obsdict in observations:\n",
    "    # print(f\"{obsdict['station']}={station_id}\")\n",
    "    if int(obsdict['station'])== int(station_id):\n",
    "        currtemp=obsdict['value']\n",
    "    \n",
    "print(f\"Current air temp - Rångedala {currtemp}\")\n"
   ]
  },
  {
   "cell_type": "code",
   "execution_count": null,
   "metadata": {},
   "outputs": [],
   "source": []
  }
 ],
 "metadata": {
  "kernelspec": {
   "display_name": "venv",
   "language": "python",
   "name": "python3"
  },
  "language_info": {
   "codemirror_mode": {
    "name": "ipython",
    "version": 3
   },
   "file_extension": ".py",
   "mimetype": "text/x-python",
   "name": "python",
   "nbconvert_exporter": "python",
   "pygments_lexer": "ipython3",
   "version": "3.11.7"
  }
 },
 "nbformat": 4,
 "nbformat_minor": 2
}
